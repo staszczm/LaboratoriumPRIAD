{
 "cells": [
  {
   "cell_type": "code",
   "execution_count": 60,
   "outputs": [],
   "source": [
    "import matplotlib.pyplot as plt\n",
    "import numpy as np\n",
    "import pandas as pd\n",
    "import seaborn as sns"
   ],
   "metadata": {
    "collapsed": false,
    "ExecuteTime": {
     "end_time": "2024-01-06T19:11:17.895430700Z",
     "start_time": "2024-01-06T19:11:17.711224400Z"
    }
   },
   "id": "582dd643bdfecc38"
  },
  {
   "cell_type": "code",
   "execution_count": 61,
   "outputs": [],
   "source": [
    "import tensorflow as tf\n",
    "from tensorflow import keras\n",
    "from tensorflow.keras import layers"
   ],
   "metadata": {
    "collapsed": false,
    "ExecuteTime": {
     "end_time": "2024-01-06T19:11:17.895430700Z",
     "start_time": "2024-01-06T19:11:17.716754900Z"
    }
   },
   "id": "8838630eef3cce5f"
  },
  {
   "cell_type": "code",
   "execution_count": 62,
   "outputs": [],
   "source": [
    "raw_dataset = pd.read_csv('housing_price_dataset.csv')"
   ],
   "metadata": {
    "collapsed": false,
    "ExecuteTime": {
     "end_time": "2024-01-06T19:11:17.899455200Z",
     "start_time": "2024-01-06T19:11:17.723425Z"
    }
   },
   "id": "a6b12f58d714d9ba"
  },
  {
   "cell_type": "code",
   "execution_count": 63,
   "outputs": [
    {
     "data": {
      "text/plain": "   SquareFeet  Bedrooms  Bathrooms Neighborhood  YearBuilt          Price\n0        2126         4          1        Rural       1969  215355.283618\n1        2459         3          2        Rural       1980  195014.221626\n2        1860         2          1       Suburb       1970  306891.012076\n3        2294         2          1        Urban       1996  206786.787153\n4        2130         5          2       Suburb       2001  272436.239065",
      "text/html": "<div>\n<style scoped>\n    .dataframe tbody tr th:only-of-type {\n        vertical-align: middle;\n    }\n\n    .dataframe tbody tr th {\n        vertical-align: top;\n    }\n\n    .dataframe thead th {\n        text-align: right;\n    }\n</style>\n<table border=\"1\" class=\"dataframe\">\n  <thead>\n    <tr style=\"text-align: right;\">\n      <th></th>\n      <th>SquareFeet</th>\n      <th>Bedrooms</th>\n      <th>Bathrooms</th>\n      <th>Neighborhood</th>\n      <th>YearBuilt</th>\n      <th>Price</th>\n    </tr>\n  </thead>\n  <tbody>\n    <tr>\n      <th>0</th>\n      <td>2126</td>\n      <td>4</td>\n      <td>1</td>\n      <td>Rural</td>\n      <td>1969</td>\n      <td>215355.283618</td>\n    </tr>\n    <tr>\n      <th>1</th>\n      <td>2459</td>\n      <td>3</td>\n      <td>2</td>\n      <td>Rural</td>\n      <td>1980</td>\n      <td>195014.221626</td>\n    </tr>\n    <tr>\n      <th>2</th>\n      <td>1860</td>\n      <td>2</td>\n      <td>1</td>\n      <td>Suburb</td>\n      <td>1970</td>\n      <td>306891.012076</td>\n    </tr>\n    <tr>\n      <th>3</th>\n      <td>2294</td>\n      <td>2</td>\n      <td>1</td>\n      <td>Urban</td>\n      <td>1996</td>\n      <td>206786.787153</td>\n    </tr>\n    <tr>\n      <th>4</th>\n      <td>2130</td>\n      <td>5</td>\n      <td>2</td>\n      <td>Suburb</td>\n      <td>2001</td>\n      <td>272436.239065</td>\n    </tr>\n  </tbody>\n</table>\n</div>"
     },
     "execution_count": 63,
     "metadata": {},
     "output_type": "execute_result"
    }
   ],
   "source": [
    "raw_dataset.head()"
   ],
   "metadata": {
    "collapsed": false,
    "ExecuteTime": {
     "end_time": "2024-01-06T19:11:17.916432900Z",
     "start_time": "2024-01-06T19:11:17.776195600Z"
    }
   },
   "id": "dcf0cc2469519c1d"
  },
  {
   "cell_type": "code",
   "execution_count": 64,
   "outputs": [
    {
     "data": {
      "text/plain": "         SquareFeet      Bedrooms     Bathrooms     YearBuilt          Price\ncount  50000.000000  50000.000000  50000.000000  50000.000000   50000.000000\nmean    2006.374680      3.498700      1.995420   1985.404420  224827.325151\nstd      575.513241      1.116326      0.815851     20.719377   76141.842966\nmin     1000.000000      2.000000      1.000000   1950.000000  -36588.165397\n25%     1513.000000      3.000000      1.000000   1967.000000  169955.860225\n50%     2007.000000      3.000000      2.000000   1985.000000  225052.141166\n75%     2506.000000      4.000000      3.000000   2003.000000  279373.630052\nmax     2999.000000      5.000000      3.000000   2021.000000  492195.259972",
      "text/html": "<div>\n<style scoped>\n    .dataframe tbody tr th:only-of-type {\n        vertical-align: middle;\n    }\n\n    .dataframe tbody tr th {\n        vertical-align: top;\n    }\n\n    .dataframe thead th {\n        text-align: right;\n    }\n</style>\n<table border=\"1\" class=\"dataframe\">\n  <thead>\n    <tr style=\"text-align: right;\">\n      <th></th>\n      <th>SquareFeet</th>\n      <th>Bedrooms</th>\n      <th>Bathrooms</th>\n      <th>YearBuilt</th>\n      <th>Price</th>\n    </tr>\n  </thead>\n  <tbody>\n    <tr>\n      <th>count</th>\n      <td>50000.000000</td>\n      <td>50000.000000</td>\n      <td>50000.000000</td>\n      <td>50000.000000</td>\n      <td>50000.000000</td>\n    </tr>\n    <tr>\n      <th>mean</th>\n      <td>2006.374680</td>\n      <td>3.498700</td>\n      <td>1.995420</td>\n      <td>1985.404420</td>\n      <td>224827.325151</td>\n    </tr>\n    <tr>\n      <th>std</th>\n      <td>575.513241</td>\n      <td>1.116326</td>\n      <td>0.815851</td>\n      <td>20.719377</td>\n      <td>76141.842966</td>\n    </tr>\n    <tr>\n      <th>min</th>\n      <td>1000.000000</td>\n      <td>2.000000</td>\n      <td>1.000000</td>\n      <td>1950.000000</td>\n      <td>-36588.165397</td>\n    </tr>\n    <tr>\n      <th>25%</th>\n      <td>1513.000000</td>\n      <td>3.000000</td>\n      <td>1.000000</td>\n      <td>1967.000000</td>\n      <td>169955.860225</td>\n    </tr>\n    <tr>\n      <th>50%</th>\n      <td>2007.000000</td>\n      <td>3.000000</td>\n      <td>2.000000</td>\n      <td>1985.000000</td>\n      <td>225052.141166</td>\n    </tr>\n    <tr>\n      <th>75%</th>\n      <td>2506.000000</td>\n      <td>4.000000</td>\n      <td>3.000000</td>\n      <td>2003.000000</td>\n      <td>279373.630052</td>\n    </tr>\n    <tr>\n      <th>max</th>\n      <td>2999.000000</td>\n      <td>5.000000</td>\n      <td>3.000000</td>\n      <td>2021.000000</td>\n      <td>492195.259972</td>\n    </tr>\n  </tbody>\n</table>\n</div>"
     },
     "execution_count": 64,
     "metadata": {},
     "output_type": "execute_result"
    }
   ],
   "source": [
    "raw_dataset.describe()"
   ],
   "metadata": {
    "collapsed": false,
    "ExecuteTime": {
     "end_time": "2024-01-06T19:11:17.917435600Z",
     "start_time": "2024-01-06T19:11:17.789358600Z"
    }
   },
   "id": "15347d5dfe953ab5"
  },
  {
   "cell_type": "code",
   "execution_count": 65,
   "outputs": [
    {
     "name": "stdout",
     "output_type": "stream",
     "text": [
      "<class 'pandas.core.frame.DataFrame'>\n",
      "RangeIndex: 50000 entries, 0 to 49999\n",
      "Data columns (total 6 columns):\n",
      " #   Column        Non-Null Count  Dtype  \n",
      "---  ------        --------------  -----  \n",
      " 0   SquareFeet    50000 non-null  int64  \n",
      " 1   Bedrooms      50000 non-null  int64  \n",
      " 2   Bathrooms     50000 non-null  int64  \n",
      " 3   Neighborhood  50000 non-null  object \n",
      " 4   YearBuilt     50000 non-null  int64  \n",
      " 5   Price         50000 non-null  float64\n",
      "dtypes: float64(1), int64(4), object(1)\n",
      "memory usage: 2.3+ MB\n"
     ]
    }
   ],
   "source": [
    "raw_dataset.info()"
   ],
   "metadata": {
    "collapsed": false,
    "ExecuteTime": {
     "end_time": "2024-01-06T19:11:17.918447300Z",
     "start_time": "2024-01-06T19:11:17.818290300Z"
    }
   },
   "id": "2d369775ad05614e"
  },
  {
   "cell_type": "code",
   "execution_count": 66,
   "outputs": [],
   "source": [
    "dataset = raw_dataset.copy()"
   ],
   "metadata": {
    "collapsed": false,
    "ExecuteTime": {
     "end_time": "2024-01-06T19:11:17.918447300Z",
     "start_time": "2024-01-06T19:11:17.841543300Z"
    }
   },
   "id": "431b9658f3cf571f"
  },
  {
   "cell_type": "code",
   "execution_count": 67,
   "outputs": [],
   "source": [
    "train_dataset = dataset.sample(frac=0.8, random_state=0)\n",
    "#train_df = train_df.reindex(np.random.permutation(train_df.index)) # shuffle the examples\n",
    "test_dataset = dataset.drop(train_dataset.index)"
   ],
   "metadata": {
    "collapsed": false,
    "ExecuteTime": {
     "end_time": "2024-01-06T19:11:17.918447300Z",
     "start_time": "2024-01-06T19:11:17.848958900Z"
    }
   },
   "id": "525ee0d3e8da46f0"
  },
  {
   "cell_type": "markdown",
   "source": [
    "train_features = train_dataset.copy()\n",
    "test_features = test_dataset.copy()\n",
    "\n",
    "train_labels = train_features.pop('Price')\n",
    "test_labels = test_features.pop('Price')"
   ],
   "metadata": {
    "collapsed": false
   },
   "id": "a74ace132b5f74e8"
  },
  {
   "cell_type": "code",
   "execution_count": 68,
   "outputs": [
    {
     "name": "stdout",
     "output_type": "stream",
     "text": [
      "Preprocessing layers defined.\n"
     ]
    }
   ],
   "source": [
    "inputs = {\n",
    "    'SquareFeet':tf.keras.layers.Input(name='SquareFeet', shape=(1,), dtype='int64'),\n",
    "    'Bedrooms':tf.keras.layers.Input(name='Bedrooms', shape=(1,), dtype='int64'),\n",
    "    'Bathrooms':tf.keras.layers.Input(name='Bathrooms', shape=(1,), dtype='int64'),\n",
    "    'YearBuilt':tf.keras.layers.Input(name='YearBuilt', shape=(1,), dtype='int64'),\n",
    "}\n",
    "\n",
    "square_feet = tf.keras.layers.Normalization(name='normalization_square_feet', axis=None)\n",
    "square_feet.adapt(np.array(train_dataset['SquareFeet']))\n",
    "square_feet = square_feet(inputs.get('SquareFeet'))\n",
    "\n",
    "bedrooms = tf.keras.layers.Normalization(name='normalization_bedrooms', axis=None)\n",
    "bedrooms.adapt(np.array(train_dataset['Bedrooms']))\n",
    "bedrooms = bedrooms(inputs.get('Bedrooms'))\n",
    "\n",
    "bathrooms = tf.keras.layers.Normalization(name='normalization_bathrooms', axis=None)\n",
    "bathrooms.adapt(np.array(train_dataset['Bathrooms']))\n",
    "bathrooms = bathrooms(inputs.get('Bathrooms'))\n",
    "\n",
    "year_built = tf.keras.layers.Normalization(name='normalization_year_built', axis=None)\n",
    "year_built.adapt(np.array(train_dataset['YearBuilt']))\n",
    "year_built = year_built(inputs.get('YearBuilt'))\n",
    "\n",
    "preprocessing_layers = tf.keras.layers.Concatenate()(\n",
    "    [square_feet, bedrooms, bathrooms, year_built])\n",
    "\n",
    "print(\"Preprocessing layers defined.\")"
   ],
   "metadata": {
    "collapsed": false,
    "ExecuteTime": {
     "end_time": "2024-01-06T19:11:23.756327700Z",
     "start_time": "2024-01-06T19:11:17.878877500Z"
    }
   },
   "id": "36806106706b7575"
  },
  {
   "cell_type": "code",
   "execution_count": 69,
   "outputs": [
    {
     "name": "stdout",
     "output_type": "stream",
     "text": [
      "Defined the plot_the_loss_curve function.\n"
     ]
    }
   ],
   "source": [
    "def plot_the_loss_curve(epochs, mse_training, mse_validation):\n",
    "  \"\"\"Plot a curve of loss vs. epoch.\"\"\"\n",
    "\n",
    "  plt.figure()\n",
    "  plt.xlabel(\"Epoch\")\n",
    "  plt.ylabel(\"Mean Squared Error\")\n",
    "\n",
    "  plt.plot(epochs, mse_training, label=\"Training Loss\")\n",
    "  plt.plot(epochs, mse_validation, label=\"Validation Loss\")\n",
    "\n",
    "  # mse_training is a pandas Series, so convert it to a list first.\n",
    "  merged_mse_lists = mse_training.tolist() + mse_validation\n",
    "  highest_loss = max(merged_mse_lists)\n",
    "  lowest_loss = min(merged_mse_lists)\n",
    "  top_of_y_axis = highest_loss * 1.03\n",
    "  bottom_of_y_axis = lowest_loss * 0.97\n",
    "\n",
    "  plt.ylim([bottom_of_y_axis, top_of_y_axis])\n",
    "  plt.legend()\n",
    "  plt.show()\n",
    "\n",
    "print(\"Defined the plot_the_loss_curve function.\")"
   ],
   "metadata": {
    "collapsed": false,
    "ExecuteTime": {
     "end_time": "2024-01-06T19:11:23.763139800Z",
     "start_time": "2024-01-06T19:11:23.754195400Z"
    }
   },
   "id": "d0acee6b590b5115"
  },
  {
   "cell_type": "code",
   "execution_count": 70,
   "outputs": [
    {
     "name": "stdout",
     "output_type": "stream",
     "text": [
      "Defined the create_model and train_model functions.\n"
     ]
    }
   ],
   "source": [
    "#@title Define functions to create and train a linear regression model\n",
    "def create_model(my_inputs, my_outputs, my_learning_rate):\n",
    "  \"\"\"Create and compile a simple linear regression model.\"\"\"\n",
    "  model = tf.keras.Model(inputs=my_inputs, outputs=my_outputs)\n",
    "\n",
    "  # Construct the layers into a model that TensorFlow can execute.\n",
    "  model.compile(optimizer=tf.keras.optimizers.Adam(\n",
    "      learning_rate=my_learning_rate),\n",
    "      loss=\"mean_squared_error\",\n",
    "      metrics=[tf.keras.metrics.MeanSquaredError()])\n",
    "\n",
    "  return model\n",
    "\n",
    "\n",
    "def train_model(model, dataset, epochs, batch_size, label_name, validation_split=0.1):\n",
    "  \"\"\"Feed a dataset into the model in order to train it.\"\"\"\n",
    "\n",
    "  # Split the dataset into features and label.\n",
    "  features = {name:np.array(value) for name, value in dataset.items()}\n",
    "  label = train_price_normalized(\n",
    "      np.array(features.pop(label_name)))\n",
    "  history = model.fit(x=features, y=label, batch_size=batch_size,\n",
    "                      epochs=epochs, shuffle=True, validation_split=validation_split)\n",
    "\n",
    "  # Get details that will be useful for plotting the loss curve.\n",
    "  epochs = history.epoch\n",
    "  hist = pd.DataFrame(history.history)\n",
    "  mse = hist[\"mean_squared_error\"]\n",
    "\n",
    "  return epochs, mse, history.history\n",
    "\n",
    "print(\"Defined the create_model and train_model functions.\")"
   ],
   "metadata": {
    "collapsed": false,
    "ExecuteTime": {
     "end_time": "2024-01-06T19:11:23.772596Z",
     "start_time": "2024-01-06T19:11:23.762124800Z"
    }
   },
   "id": "34c51197d034a9d6"
  },
  {
   "cell_type": "code",
   "execution_count": 71,
   "outputs": [],
   "source": [
    "#@title Define normalized label columns\n",
    "# Create Normalization layers to normalize the median_house_value data.\n",
    "# Because median_house_value is our label (i.e., the target value we're\n",
    "# predicting), these layers won't be added to our model.\n",
    "train_price_normalized = tf.keras.layers.Normalization(axis=None)\n",
    "train_price_normalized.adapt(\n",
    "    np.array(train_dataset['Price']))\n",
    "\n",
    "test_price_normalized = tf.keras.layers.Normalization(axis=None)\n",
    "test_price_normalized.adapt(\n",
    "    np.array(test_dataset['Price']))"
   ],
   "metadata": {
    "collapsed": false,
    "ExecuteTime": {
     "end_time": "2024-01-06T19:11:25.651082800Z",
     "start_time": "2024-01-06T19:11:23.773597Z"
    }
   },
   "id": "8517c489ebf6d6b3"
  },
  {
   "cell_type": "code",
   "execution_count": 72,
   "outputs": [],
   "source": [
    "#@title Define linear regression model outputs\n",
    "def get_outputs_linear_regression():\n",
    "  # Create the Dense output layer.\n",
    "  dense_output = tf.keras.layers.Dense(units=1,\n",
    "                              name='dense_output')(preprocessing_layers)\n",
    "\n",
    "  # Define an output dictionary we'll send to the model constructor.\n",
    "  outputs = {\n",
    "    'dense_output': dense_output\n",
    "  }\n",
    "  return outputs"
   ],
   "metadata": {
    "collapsed": false,
    "ExecuteTime": {
     "end_time": "2024-01-06T19:11:25.658750700Z",
     "start_time": "2024-01-06T19:11:25.652607100Z"
    }
   },
   "id": "3df64cb8bc6e9841"
  },
  {
   "cell_type": "code",
   "execution_count": 73,
   "outputs": [
    {
     "name": "stdout",
     "output_type": "stream",
     "text": [
      "Epoch 1/15\n"
     ]
    },
    {
     "name": "stderr",
     "output_type": "stream",
     "text": [
      "C:\\Users\\macie\\anaconda3\\envs\\LaboratoriumPRIAD\\Lib\\site-packages\\keras\\src\\engine\\functional.py:642: UserWarning: Input dict contained keys ['Neighborhood'] which did not match any model input. They will be ignored by the model.\n",
      "  inputs = self._flatten_to_reference_inputs(inputs)\n"
     ]
    },
    {
     "name": "stdout",
     "output_type": "stream",
     "text": [
      "32/32 [==============================] - 1s 9ms/step - loss: 1.8304 - mean_squared_error: 1.8304 - val_loss: 1.2597 - val_mean_squared_error: 1.2597\n",
      "Epoch 2/15\n",
      "32/32 [==============================] - 0s 3ms/step - loss: 0.9458 - mean_squared_error: 0.9458 - val_loss: 0.6961 - val_mean_squared_error: 0.6961\n",
      "Epoch 3/15\n",
      "32/32 [==============================] - 0s 3ms/step - loss: 0.5831 - mean_squared_error: 0.5831 - val_loss: 0.4998 - val_mean_squared_error: 0.4998\n",
      "Epoch 4/15\n",
      "32/32 [==============================] - 0s 3ms/step - loss: 0.4667 - mean_squared_error: 0.4667 - val_loss: 0.4428 - val_mean_squared_error: 0.4428\n",
      "Epoch 5/15\n",
      "32/32 [==============================] - 0s 3ms/step - loss: 0.4361 - mean_squared_error: 0.4361 - val_loss: 0.4297 - val_mean_squared_error: 0.4297\n",
      "Epoch 6/15\n",
      "32/32 [==============================] - 0s 3ms/step - loss: 0.4298 - mean_squared_error: 0.4298 - val_loss: 0.4271 - val_mean_squared_error: 0.4271\n",
      "Epoch 7/15\n",
      "32/32 [==============================] - 0s 3ms/step - loss: 0.4287 - mean_squared_error: 0.4287 - val_loss: 0.4265 - val_mean_squared_error: 0.4265\n",
      "Epoch 8/15\n",
      "32/32 [==============================] - 0s 3ms/step - loss: 0.4287 - mean_squared_error: 0.4287 - val_loss: 0.4264 - val_mean_squared_error: 0.4264\n",
      "Epoch 9/15\n",
      "32/32 [==============================] - 0s 3ms/step - loss: 0.4285 - mean_squared_error: 0.4285 - val_loss: 0.4269 - val_mean_squared_error: 0.4269\n",
      "Epoch 10/15\n",
      "32/32 [==============================] - 0s 3ms/step - loss: 0.4287 - mean_squared_error: 0.4287 - val_loss: 0.4265 - val_mean_squared_error: 0.4265\n",
      "Epoch 11/15\n",
      "32/32 [==============================] - 0s 3ms/step - loss: 0.4285 - mean_squared_error: 0.4285 - val_loss: 0.4265 - val_mean_squared_error: 0.4265\n",
      "Epoch 12/15\n",
      "32/32 [==============================] - 0s 3ms/step - loss: 0.4285 - mean_squared_error: 0.4285 - val_loss: 0.4266 - val_mean_squared_error: 0.4266\n",
      "Epoch 13/15\n",
      "32/32 [==============================] - 0s 3ms/step - loss: 0.4286 - mean_squared_error: 0.4286 - val_loss: 0.4265 - val_mean_squared_error: 0.4265\n",
      "Epoch 14/15\n",
      "32/32 [==============================] - 0s 3ms/step - loss: 0.4286 - mean_squared_error: 0.4286 - val_loss: 0.4264 - val_mean_squared_error: 0.4264\n",
      "Epoch 15/15\n",
      "32/32 [==============================] - 0s 3ms/step - loss: 0.4286 - mean_squared_error: 0.4286 - val_loss: 0.4267 - val_mean_squared_error: 0.4267\n"
     ]
    },
    {
     "data": {
      "text/plain": "<Figure size 640x480 with 1 Axes>",
      "image/png": "[encoded data removed]"
     },
     "metadata": {},
     "output_type": "display_data"
    },
    {
     "name": "stdout",
     "output_type": "stream",
     "text": [
      "\n",
      " Evaluate the linear regression model against the test set:\n",
      "10/10 [==============================] - 0s 2ms/step - loss: 0.4380 - mean_squared_error: 0.4380\n"
     ]
    },
    {
     "data": {
      "text/plain": "{'loss': 0.4380478858947754, 'mean_squared_error': 0.4380478858947754}"
     },
     "execution_count": 73,
     "metadata": {},
     "output_type": "execute_result"
    }
   ],
   "source": [
    "# The following variables are the hyperparameters.\n",
    "learning_rate = 0.01\n",
    "epochs = 15\n",
    "batch_size = 1000\n",
    "label_name = \"Price\"\n",
    "\n",
    "# Split the original training set into a reduced training set and a\n",
    "# validation set.\n",
    "validation_split = 0.2\n",
    "\n",
    "outputs = get_outputs_linear_regression()\n",
    "\n",
    "# Establish the model's topography.\n",
    "my_model = create_model(inputs, outputs, learning_rate)\n",
    "\n",
    "# Train the model on the normalized training set.\n",
    "epochs, mse, history = train_model(my_model, train_dataset, epochs, batch_size,\n",
    "                          label_name, validation_split)\n",
    "plot_the_loss_curve(epochs, mse, history[\"val_mean_squared_error\"])\n",
    "\n",
    "test_features = {name:np.array(value) for name, value in test_dataset.items()}\n",
    "test_label = test_price_normalized(test_features.pop(label_name)) # isolate the label\n",
    "print(\"\\n Evaluate the linear regression model against the test set:\")\n",
    "my_model.evaluate(x = test_features, y = test_label, batch_size=batch_size, return_dict=True)"
   ],
   "metadata": {
    "collapsed": false,
    "ExecuteTime": {
     "end_time": "2024-01-06T19:11:28.186732100Z",
     "start_time": "2024-01-06T19:11:25.657751700Z"
    }
   },
   "id": "93ceca0356f208df"
  },
  {
   "cell_type": "code",
   "execution_count": 74,
   "outputs": [],
   "source": [
    "def get_outputs_dnn():\n",
    "  # Create a Dense layer with 20 nodes.\n",
    "  dense_output = tf.keras.layers.Dense(units=20,\n",
    "                              activation='relu',\n",
    "                              name='hidden_dense_layer_1')(preprocessing_layers)\n",
    "  # Create a Dense layer with 12 nodes.\n",
    "  dense_output = tf.keras.layers.Dense(units=12,\n",
    "                              activation='relu',\n",
    "                              name='hidden_dense_layer_2')(dense_output)\n",
    "  # Create the Dense output layer.\n",
    "  dense_output = tf.keras.layers.Dense(units=1,\n",
    "                              name='dense_output')(dense_output)\n",
    "\n",
    "  # Define an output dictionary we'll send to the model constructor.\n",
    "  outputs = {\n",
    "    'dense_output': dense_output\n",
    "  }\n",
    "\n",
    "  return outputs"
   ],
   "metadata": {
    "collapsed": false,
    "ExecuteTime": {
     "end_time": "2024-01-06T19:11:28.186732100Z",
     "start_time": "2024-01-06T19:11:28.183431300Z"
    }
   },
   "id": "9856ea055868242e"
  },
  {
   "cell_type": "code",
   "execution_count": 75,
   "outputs": [
    {
     "name": "stdout",
     "output_type": "stream",
     "text": [
      "Epoch 1/20\n",
      "32/32 [==============================] - 1s 9ms/step - loss: 0.4870 - mean_squared_error: 0.4870 - val_loss: 0.4367 - val_mean_squared_error: 0.4367\n",
      "Epoch 2/20\n",
      "32/32 [==============================] - 0s 4ms/step - loss: 0.4339 - mean_squared_error: 0.4339 - val_loss: 0.4293 - val_mean_squared_error: 0.4293\n",
      "Epoch 3/20\n",
      "32/32 [==============================] - 0s 4ms/step - loss: 0.4323 - mean_squared_error: 0.4323 - val_loss: 0.4331 - val_mean_squared_error: 0.4331\n",
      "Epoch 4/20\n",
      "32/32 [==============================] - 0s 4ms/step - loss: 0.4312 - mean_squared_error: 0.4312 - val_loss: 0.4299 - val_mean_squared_error: 0.4299\n",
      "Epoch 5/20\n",
      "32/32 [==============================] - 0s 3ms/step - loss: 0.4305 - mean_squared_error: 0.4305 - val_loss: 0.4296 - val_mean_squared_error: 0.4296\n",
      "Epoch 6/20\n",
      "32/32 [==============================] - 0s 4ms/step - loss: 0.4300 - mean_squared_error: 0.4300 - val_loss: 0.4287 - val_mean_squared_error: 0.4287\n",
      "Epoch 7/20\n",
      "32/32 [==============================] - 0s 4ms/step - loss: 0.4301 - mean_squared_error: 0.4301 - val_loss: 0.4302 - val_mean_squared_error: 0.4302\n",
      "Epoch 8/20\n",
      "32/32 [==============================] - 0s 4ms/step - loss: 0.4308 - mean_squared_error: 0.4308 - val_loss: 0.4280 - val_mean_squared_error: 0.4280\n",
      "Epoch 9/20\n",
      "32/32 [==============================] - 0s 4ms/step - loss: 0.4297 - mean_squared_error: 0.4297 - val_loss: 0.4283 - val_mean_squared_error: 0.4283\n",
      "Epoch 10/20\n",
      "32/32 [==============================] - 0s 4ms/step - loss: 0.4293 - mean_squared_error: 0.4293 - val_loss: 0.4292 - val_mean_squared_error: 0.4292\n",
      "Epoch 11/20\n",
      "32/32 [==============================] - 0s 4ms/step - loss: 0.4290 - mean_squared_error: 0.4290 - val_loss: 0.4298 - val_mean_squared_error: 0.4298\n",
      "Epoch 12/20\n",
      "32/32 [==============================] - 0s 4ms/step - loss: 0.4293 - mean_squared_error: 0.4293 - val_loss: 0.4294 - val_mean_squared_error: 0.4294\n",
      "Epoch 13/20\n",
      "32/32 [==============================] - 0s 4ms/step - loss: 0.4300 - mean_squared_error: 0.4300 - val_loss: 0.4280 - val_mean_squared_error: 0.4280\n",
      "Epoch 14/20\n",
      "32/32 [==============================] - 0s 4ms/step - loss: 0.4320 - mean_squared_error: 0.4320 - val_loss: 0.4354 - val_mean_squared_error: 0.4354\n",
      "Epoch 15/20\n",
      "32/32 [==============================] - 0s 4ms/step - loss: 0.4310 - mean_squared_error: 0.4310 - val_loss: 0.4285 - val_mean_squared_error: 0.4285\n",
      "Epoch 16/20\n",
      "32/32 [==============================] - 0s 3ms/step - loss: 0.4290 - mean_squared_error: 0.4290 - val_loss: 0.4297 - val_mean_squared_error: 0.4297\n",
      "Epoch 17/20\n",
      "32/32 [==============================] - 0s 4ms/step - loss: 0.4305 - mean_squared_error: 0.4305 - val_loss: 0.4284 - val_mean_squared_error: 0.4284\n",
      "Epoch 18/20\n",
      "32/32 [==============================] - 0s 4ms/step - loss: 0.4282 - mean_squared_error: 0.4282 - val_loss: 0.4285 - val_mean_squared_error: 0.4285\n",
      "Epoch 19/20\n",
      "32/32 [==============================] - 0s 3ms/step - loss: 0.4295 - mean_squared_error: 0.4295 - val_loss: 0.4300 - val_mean_squared_error: 0.4300\n",
      "Epoch 20/20\n",
      "32/32 [==============================] - 0s 3ms/step - loss: 0.4287 - mean_squared_error: 0.4287 - val_loss: 0.4292 - val_mean_squared_error: 0.4292\n"
     ]
    },
    {
     "data": {
      "text/plain": "<Figure size 640x480 with 1 Axes>",
      "image/png": "[encoded data removed]"
     },
     "metadata": {},
     "output_type": "display_data"
    },
    {
     "name": "stdout",
     "output_type": "stream",
     "text": [
      "\n",
      " Evaluate the new model against the test set:\n",
      "10/10 [==============================] - 0s 2ms/step - loss: 0.4397 - mean_squared_error: 0.4397\n"
     ]
    },
    {
     "data": {
      "text/plain": "{'loss': 0.4396592378616333, 'mean_squared_error': 0.4396592378616333}"
     },
     "execution_count": 75,
     "metadata": {},
     "output_type": "execute_result"
    }
   ],
   "source": [
    "# The following variables are the hyperparameters.\n",
    "learning_rate = 0.01\n",
    "epochs = 20\n",
    "batch_size = 1000\n",
    "\n",
    "# Specify the label\n",
    "label_name = \"Price\"\n",
    "\n",
    "# Split the original training set into a reduced training set and a\n",
    "# validation set.\n",
    "validation_split = 0.2\n",
    "\n",
    "dnn_outputs = get_outputs_dnn()\n",
    "\n",
    "# Establish the model's topography.\n",
    "my_model = create_model(\n",
    "    inputs,\n",
    "    dnn_outputs,\n",
    "    learning_rate)\n",
    "\n",
    "# Train the model on the normalized training set. We're passing the entire\n",
    "# normalized training set, but the model will only use the features\n",
    "# defined in our inputs.\n",
    "epochs, mse, history = train_model(my_model, train_dataset, epochs,\n",
    "                                   batch_size, label_name, validation_split)\n",
    "plot_the_loss_curve(epochs, mse, history[\"val_mean_squared_error\"])\n",
    "\n",
    "# After building a model against the training set, test that model\n",
    "# against the test set.\n",
    "test_features = {name:np.array(value) for name, value in test_dataset.items()}\n",
    "test_label = test_price_normalized(np.array(test_features.pop(label_name))) # isolate the label\n",
    "print(\"\\n Evaluate the new model against the test set:\")\n",
    "my_model.evaluate(x = test_features, y = test_label, batch_size=batch_size, return_dict=True)"
   ],
   "metadata": {
    "collapsed": false,
    "ExecuteTime": {
     "end_time": "2024-01-06T19:11:31.765713200Z",
     "start_time": "2024-01-06T19:11:28.191739100Z"
    }
   },
   "id": "41ff346500491c61"
  },
  {
   "cell_type": "markdown",
   "source": [
    "https://developers.google.com/machine-learning/crash-course/introduction-to-neural-networks/programming-exercise?hl=en\n",
    "\n",
    "https://colab.research.google.com/github/google/eng-edu/blob/main/ml/cc/exercises/intro_to_neural_nets.ipynb?utm_source=mlcc&utm_campaign=colab-external&utm_medium=referral&utm_content=intro_to_nn_tf2-colab&hl=en\n",
    "\n",
    "https://www.kaggle.com/code/alkidiarete/housing-price-prediction-h2o-ai-automl/notebook\n",
    "\n",
    "https://www.tensorflow.org/tutorials/keras/regression?hl=pl"
   ],
   "metadata": {
    "collapsed": false
   },
   "id": "cdaf79b4cf1ad8ec"
  }
 ],
 "metadata": {
  "kernelspec": {
   "display_name": "Python 3",
   "language": "python",
   "name": "python3"
  },
  "language_info": {
   "codemirror_mode": {
    "name": "ipython",
    "version": 2
   },
   "file_extension": ".py",
   "mimetype": "text/x-python",
   "name": "python",
   "nbconvert_exporter": "python",
   "pygments_lexer": "ipython2",
   "version": "2.7.6"
  }
 },
 "nbformat": 4,
 "nbformat_minor": 5
}
